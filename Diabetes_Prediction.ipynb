{
 "cells": [
  {
   "cell_type": "markdown",
   "id": "30ddc047",
   "metadata": {},
   "source": [
    "### Import the dependencies"
   ]
  },
  {
   "cell_type": "code",
   "execution_count": 186,
   "id": "7550030e",
   "metadata": {},
   "outputs": [],
   "source": [
    "import numpy as np\n",
    "import pandas as pd\n",
    "from sklearn.preprocessing import StandardScaler\n",
    "from sklearn.model_selection import train_test_split\n",
    "from sklearn import svm\n",
    "from sklearn.metrics import accuracy_score"
   ]
  },
  {
   "cell_type": "markdown",
   "id": "d564905e",
   "metadata": {},
   "source": [
    "### Loading the dataset\n",
    "\n",
    "#### PIMA diabetes dataset (kaggle/UCI) (females dataset)"
   ]
  },
  {
   "cell_type": "code",
   "execution_count": 187,
   "id": "75d41f6a",
   "metadata": {},
   "outputs": [],
   "source": [
    "diab_dst = pd.read_csv('diabetesCopy.csv')\n",
    "\n",
    "# diab_dst.head()"
   ]
  },
  {
   "cell_type": "code",
   "execution_count": 188,
   "id": "648afb33",
   "metadata": {},
   "outputs": [
    {
     "data": {
      "text/plain": [
       "(799, 9)"
      ]
     },
     "execution_count": 188,
     "metadata": {},
     "output_type": "execute_result"
    }
   ],
   "source": [
    "# numbers of rows and column in our dataset\n",
    "\n",
    "diab_dst.shape"
   ]
  },
  {
   "cell_type": "code",
   "execution_count": 189,
   "id": "d03af82e",
   "metadata": {},
   "outputs": [
    {
     "data": {
      "text/html": [
       "<div>\n",
       "<style scoped>\n",
       "    .dataframe tbody tr th:only-of-type {\n",
       "        vertical-align: middle;\n",
       "    }\n",
       "\n",
       "    .dataframe tbody tr th {\n",
       "        vertical-align: top;\n",
       "    }\n",
       "\n",
       "    .dataframe thead th {\n",
       "        text-align: right;\n",
       "    }\n",
       "</style>\n",
       "<table border=\"1\" class=\"dataframe\">\n",
       "  <thead>\n",
       "    <tr style=\"text-align: right;\">\n",
       "      <th></th>\n",
       "      <th>Pregnancies</th>\n",
       "      <th>Glucose</th>\n",
       "      <th>BloodPressure</th>\n",
       "      <th>SkinThickness</th>\n",
       "      <th>Insulin</th>\n",
       "      <th>BMI</th>\n",
       "      <th>DiabetesPedigreeFunction</th>\n",
       "      <th>Age</th>\n",
       "      <th>Outcome</th>\n",
       "    </tr>\n",
       "  </thead>\n",
       "  <tbody>\n",
       "    <tr>\n",
       "      <th>count</th>\n",
       "      <td>799.000000</td>\n",
       "      <td>799.000000</td>\n",
       "      <td>799.000000</td>\n",
       "      <td>799.000000</td>\n",
       "      <td>799.000000</td>\n",
       "      <td>799.000000</td>\n",
       "      <td>799.000000</td>\n",
       "      <td>799.000000</td>\n",
       "      <td>799.000000</td>\n",
       "    </tr>\n",
       "    <tr>\n",
       "      <th>mean</th>\n",
       "      <td>3.994994</td>\n",
       "      <td>120.986233</td>\n",
       "      <td>69.261577</td>\n",
       "      <td>21.554443</td>\n",
       "      <td>90.598248</td>\n",
       "      <td>32.103905</td>\n",
       "      <td>0.501014</td>\n",
       "      <td>33.959950</td>\n",
       "      <td>0.355444</td>\n",
       "    </tr>\n",
       "    <tr>\n",
       "      <th>std</th>\n",
       "      <td>3.519722</td>\n",
       "      <td>32.525118</td>\n",
       "      <td>20.014667</td>\n",
       "      <td>17.309630</td>\n",
       "      <td>134.005013</td>\n",
       "      <td>8.552623</td>\n",
       "      <td>0.367231</td>\n",
       "      <td>12.630508</td>\n",
       "      <td>0.478948</td>\n",
       "    </tr>\n",
       "    <tr>\n",
       "      <th>min</th>\n",
       "      <td>0.000000</td>\n",
       "      <td>0.000000</td>\n",
       "      <td>0.000000</td>\n",
       "      <td>0.000000</td>\n",
       "      <td>0.000000</td>\n",
       "      <td>0.000000</td>\n",
       "      <td>0.080000</td>\n",
       "      <td>21.000000</td>\n",
       "      <td>0.000000</td>\n",
       "    </tr>\n",
       "    <tr>\n",
       "      <th>25%</th>\n",
       "      <td>1.000000</td>\n",
       "      <td>99.000000</td>\n",
       "      <td>62.000000</td>\n",
       "      <td>0.000000</td>\n",
       "      <td>0.000000</td>\n",
       "      <td>27.150000</td>\n",
       "      <td>0.250000</td>\n",
       "      <td>24.000000</td>\n",
       "      <td>0.000000</td>\n",
       "    </tr>\n",
       "    <tr>\n",
       "      <th>50%</th>\n",
       "      <td>3.000000</td>\n",
       "      <td>117.000000</td>\n",
       "      <td>72.000000</td>\n",
       "      <td>23.000000</td>\n",
       "      <td>44.000000</td>\n",
       "      <td>32.000000</td>\n",
       "      <td>0.390000</td>\n",
       "      <td>29.000000</td>\n",
       "      <td>0.000000</td>\n",
       "    </tr>\n",
       "    <tr>\n",
       "      <th>75%</th>\n",
       "      <td>6.000000</td>\n",
       "      <td>141.000000</td>\n",
       "      <td>80.000000</td>\n",
       "      <td>33.000000</td>\n",
       "      <td>135.000000</td>\n",
       "      <td>36.800000</td>\n",
       "      <td>0.660000</td>\n",
       "      <td>41.000000</td>\n",
       "      <td>1.000000</td>\n",
       "    </tr>\n",
       "    <tr>\n",
       "      <th>max</th>\n",
       "      <td>17.000000</td>\n",
       "      <td>199.000000</td>\n",
       "      <td>122.000000</td>\n",
       "      <td>99.000000</td>\n",
       "      <td>846.000000</td>\n",
       "      <td>67.100000</td>\n",
       "      <td>2.420000</td>\n",
       "      <td>81.000000</td>\n",
       "      <td>1.000000</td>\n",
       "    </tr>\n",
       "  </tbody>\n",
       "</table>\n",
       "</div>"
      ],
      "text/plain": [
       "       Pregnancies     Glucose  BloodPressure  SkinThickness     Insulin  \\\n",
       "count   799.000000  799.000000     799.000000     799.000000  799.000000   \n",
       "mean      3.994994  120.986233      69.261577      21.554443   90.598248   \n",
       "std       3.519722   32.525118      20.014667      17.309630  134.005013   \n",
       "min       0.000000    0.000000       0.000000       0.000000    0.000000   \n",
       "25%       1.000000   99.000000      62.000000       0.000000    0.000000   \n",
       "50%       3.000000  117.000000      72.000000      23.000000   44.000000   \n",
       "75%       6.000000  141.000000      80.000000      33.000000  135.000000   \n",
       "max      17.000000  199.000000     122.000000      99.000000  846.000000   \n",
       "\n",
       "              BMI  DiabetesPedigreeFunction         Age     Outcome  \n",
       "count  799.000000                799.000000  799.000000  799.000000  \n",
       "mean    32.103905                  0.501014   33.959950    0.355444  \n",
       "std      8.552623                  0.367231   12.630508    0.478948  \n",
       "min      0.000000                  0.080000   21.000000    0.000000  \n",
       "25%     27.150000                  0.250000   24.000000    0.000000  \n",
       "50%     32.000000                  0.390000   29.000000    0.000000  \n",
       "75%     36.800000                  0.660000   41.000000    1.000000  \n",
       "max     67.100000                  2.420000   81.000000    1.000000  "
      ]
     },
     "execution_count": 189,
     "metadata": {},
     "output_type": "execute_result"
    }
   ],
   "source": [
    "# finding the statistical measures of the dataset\n",
    "\n",
    "diab_dst.describe()"
   ]
  },
  {
   "cell_type": "code",
   "execution_count": 190,
   "id": "2bb8ec5e",
   "metadata": {},
   "outputs": [
    {
     "data": {
      "text/plain": [
       "Outcome\n",
       "0    515\n",
       "1    284\n",
       "Name: count, dtype: int64"
      ]
     },
     "execution_count": 190,
     "metadata": {},
     "output_type": "execute_result"
    }
   ],
   "source": [
    "# value counts\n",
    "# tells us that 500 patients are non-diabetic and 268 people are diabetic in the dataset\n",
    "\n",
    "diab_dst['Outcome'].value_counts()"
   ]
  },
  {
   "cell_type": "code",
   "execution_count": 191,
   "id": "26470772",
   "metadata": {},
   "outputs": [
    {
     "data": {
      "text/html": [
       "<div>\n",
       "<style scoped>\n",
       "    .dataframe tbody tr th:only-of-type {\n",
       "        vertical-align: middle;\n",
       "    }\n",
       "\n",
       "    .dataframe tbody tr th {\n",
       "        vertical-align: top;\n",
       "    }\n",
       "\n",
       "    .dataframe thead th {\n",
       "        text-align: right;\n",
       "    }\n",
       "</style>\n",
       "<table border=\"1\" class=\"dataframe\">\n",
       "  <thead>\n",
       "    <tr style=\"text-align: right;\">\n",
       "      <th></th>\n",
       "      <th>Pregnancies</th>\n",
       "      <th>Glucose</th>\n",
       "      <th>BloodPressure</th>\n",
       "      <th>SkinThickness</th>\n",
       "      <th>Insulin</th>\n",
       "      <th>BMI</th>\n",
       "      <th>DiabetesPedigreeFunction</th>\n",
       "      <th>Age</th>\n",
       "    </tr>\n",
       "    <tr>\n",
       "      <th>Outcome</th>\n",
       "      <th></th>\n",
       "      <th></th>\n",
       "      <th></th>\n",
       "      <th></th>\n",
       "      <th></th>\n",
       "      <th></th>\n",
       "      <th></th>\n",
       "      <th></th>\n",
       "    </tr>\n",
       "  </thead>\n",
       "  <tbody>\n",
       "    <tr>\n",
       "      <th>0</th>\n",
       "      <td>3.460194</td>\n",
       "      <td>110.768932</td>\n",
       "      <td>68.347573</td>\n",
       "      <td>20.341748</td>\n",
       "      <td>77.452427</td>\n",
       "      <td>30.500388</td>\n",
       "      <td>0.454214</td>\n",
       "      <td>31.640777</td>\n",
       "    </tr>\n",
       "    <tr>\n",
       "      <th>1</th>\n",
       "      <td>4.964789</td>\n",
       "      <td>139.514085</td>\n",
       "      <td>70.919014</td>\n",
       "      <td>23.753521</td>\n",
       "      <td>114.436620</td>\n",
       "      <td>35.011690</td>\n",
       "      <td>0.585880</td>\n",
       "      <td>38.165493</td>\n",
       "    </tr>\n",
       "  </tbody>\n",
       "</table>\n",
       "</div>"
      ],
      "text/plain": [
       "         Pregnancies     Glucose  BloodPressure  SkinThickness     Insulin  \\\n",
       "Outcome                                                                      \n",
       "0           3.460194  110.768932      68.347573      20.341748   77.452427   \n",
       "1           4.964789  139.514085      70.919014      23.753521  114.436620   \n",
       "\n",
       "               BMI  DiabetesPedigreeFunction        Age  \n",
       "Outcome                                                  \n",
       "0        30.500388                  0.454214  31.640777  \n",
       "1        35.011690                  0.585880  38.165493  "
      ]
     },
     "execution_count": 191,
     "metadata": {},
     "output_type": "execute_result"
    }
   ],
   "source": [
    "# building some insights\n",
    "# we will come to know who will be more susceptible to diabetes by finding mean for the outcome\n",
    "\n",
    "diab_dst.groupby('Outcome').mean()"
   ]
  },
  {
   "cell_type": "raw",
   "id": "c652b98d",
   "metadata": {},
   "source": [
    "The output tells us that glucose level 109 means that the patient is not having diabetes and with 147 level may be having diabetes. The same goes for the other labels."
   ]
  },
  {
   "cell_type": "code",
   "execution_count": 192,
   "id": "fd17c9d8",
   "metadata": {},
   "outputs": [],
   "source": [
    "# separating data and labels for the independent variable \n",
    "\n",
    "X = diab_dst.drop(columns='Outcome', axis=1)   # axis = 1, means columns and 0 means rows, since df means x,y\n",
    "Y = diab_dst['Outcome']"
   ]
  },
  {
   "cell_type": "markdown",
   "id": "a4d0f5dc",
   "metadata": {},
   "source": [
    "### Data standardization\n",
    "\n",
    "#### To make machine leaning models easier to predict the data. Since the data in out dataset has different ranges for each labels, like glucose is from(100,200), BMI is from(20,40) and same. So we will make them in a particular range. So we are fitting inconsistent data using standard scalar function."
   ]
  },
  {
   "cell_type": "code",
   "execution_count": 193,
   "id": "89196a4c",
   "metadata": {},
   "outputs": [],
   "source": [
    "# # taking one instance of the standard scaler function\n",
    "\n",
    "# scaler = StandardScaler()"
   ]
  },
  {
   "cell_type": "code",
   "execution_count": 194,
   "id": "25cd5429",
   "metadata": {},
   "outputs": [],
   "source": [
    "# # standardising the X dataset we have created\n",
    "# # it will make all the labels within same ranges (0 to 1)\n",
    "# # another way to do it will be scaler.fit(X) and then scaler.transform but we are using one method for doing those\n",
    "\n",
    "# scaler.fit(X)\n",
    "\n",
    "# standardised_data = scaler.transform(X)"
   ]
  },
  {
   "cell_type": "code",
   "execution_count": 195,
   "id": "8952e896",
   "metadata": {},
   "outputs": [],
   "source": [
    "# standardised_data"
   ]
  },
  {
   "cell_type": "code",
   "execution_count": 196,
   "id": "b55e1216",
   "metadata": {},
   "outputs": [],
   "source": [
    "# X_std = standardised_data"
   ]
  },
  {
   "cell_type": "code",
   "execution_count": 197,
   "id": "5bc1ee4a",
   "metadata": {},
   "outputs": [],
   "source": [
    "# X\n",
    "# Y\n",
    "# X_std"
   ]
  },
  {
   "cell_type": "markdown",
   "id": "7056b278",
   "metadata": {},
   "source": [
    "### Splitting the data into training data and testing data"
   ]
  },
  {
   "cell_type": "code",
   "execution_count": 198,
   "id": "b0b165c6",
   "metadata": {},
   "outputs": [],
   "source": [
    "x_train, x_test, y_train, y_test = train_test_split(X, Y,\n",
    "                                                    test_size=0.3,\n",
    "                                                    random_state=4,\n",
    "                                                    stratify=Y)"
   ]
  },
  {
   "cell_type": "code",
   "execution_count": 199,
   "id": "8595ff1e",
   "metadata": {},
   "outputs": [
    {
     "name": "stdout",
     "output_type": "stream",
     "text": [
      "(799, 8) (559, 8) (240, 8) (559,) (240,) (799,)\n"
     ]
    }
   ],
   "source": [
    "print(X.shape, x_train.shape, x_test.shape, y_train.shape, y_test.shape, Y.shape)"
   ]
  },
  {
   "cell_type": "markdown",
   "id": "59e88506",
   "metadata": {},
   "source": [
    "## Training the model"
   ]
  },
  {
   "cell_type": "code",
   "execution_count": 200,
   "id": "7205ae7e",
   "metadata": {},
   "outputs": [],
   "source": [
    "# creating a classifer\n",
    "# SVC means Support Vector Classifier\n",
    "\n",
    "classifier = svm.SVC(kernel='poly',degree=3)"
   ]
  },
  {
   "cell_type": "code",
   "execution_count": 201,
   "id": "3f514e89",
   "metadata": {},
   "outputs": [
    {
     "data": {
      "text/html": [
       "<style>#sk-container-id-9 {color: black;}#sk-container-id-9 pre{padding: 0;}#sk-container-id-9 div.sk-toggleable {background-color: white;}#sk-container-id-9 label.sk-toggleable__label {cursor: pointer;display: block;width: 100%;margin-bottom: 0;padding: 0.3em;box-sizing: border-box;text-align: center;}#sk-container-id-9 label.sk-toggleable__label-arrow:before {content: \"▸\";float: left;margin-right: 0.25em;color: #696969;}#sk-container-id-9 label.sk-toggleable__label-arrow:hover:before {color: black;}#sk-container-id-9 div.sk-estimator:hover label.sk-toggleable__label-arrow:before {color: black;}#sk-container-id-9 div.sk-toggleable__content {max-height: 0;max-width: 0;overflow: hidden;text-align: left;background-color: #f0f8ff;}#sk-container-id-9 div.sk-toggleable__content pre {margin: 0.2em;color: black;border-radius: 0.25em;background-color: #f0f8ff;}#sk-container-id-9 input.sk-toggleable__control:checked~div.sk-toggleable__content {max-height: 200px;max-width: 100%;overflow: auto;}#sk-container-id-9 input.sk-toggleable__control:checked~label.sk-toggleable__label-arrow:before {content: \"▾\";}#sk-container-id-9 div.sk-estimator input.sk-toggleable__control:checked~label.sk-toggleable__label {background-color: #d4ebff;}#sk-container-id-9 div.sk-label input.sk-toggleable__control:checked~label.sk-toggleable__label {background-color: #d4ebff;}#sk-container-id-9 input.sk-hidden--visually {border: 0;clip: rect(1px 1px 1px 1px);clip: rect(1px, 1px, 1px, 1px);height: 1px;margin: -1px;overflow: hidden;padding: 0;position: absolute;width: 1px;}#sk-container-id-9 div.sk-estimator {font-family: monospace;background-color: #f0f8ff;border: 1px dotted black;border-radius: 0.25em;box-sizing: border-box;margin-bottom: 0.5em;}#sk-container-id-9 div.sk-estimator:hover {background-color: #d4ebff;}#sk-container-id-9 div.sk-parallel-item::after {content: \"\";width: 100%;border-bottom: 1px solid gray;flex-grow: 1;}#sk-container-id-9 div.sk-label:hover label.sk-toggleable__label {background-color: #d4ebff;}#sk-container-id-9 div.sk-serial::before {content: \"\";position: absolute;border-left: 1px solid gray;box-sizing: border-box;top: 0;bottom: 0;left: 50%;z-index: 0;}#sk-container-id-9 div.sk-serial {display: flex;flex-direction: column;align-items: center;background-color: white;padding-right: 0.2em;padding-left: 0.2em;position: relative;}#sk-container-id-9 div.sk-item {position: relative;z-index: 1;}#sk-container-id-9 div.sk-parallel {display: flex;align-items: stretch;justify-content: center;background-color: white;position: relative;}#sk-container-id-9 div.sk-item::before, #sk-container-id-9 div.sk-parallel-item::before {content: \"\";position: absolute;border-left: 1px solid gray;box-sizing: border-box;top: 0;bottom: 0;left: 50%;z-index: -1;}#sk-container-id-9 div.sk-parallel-item {display: flex;flex-direction: column;z-index: 1;position: relative;background-color: white;}#sk-container-id-9 div.sk-parallel-item:first-child::after {align-self: flex-end;width: 50%;}#sk-container-id-9 div.sk-parallel-item:last-child::after {align-self: flex-start;width: 50%;}#sk-container-id-9 div.sk-parallel-item:only-child::after {width: 0;}#sk-container-id-9 div.sk-dashed-wrapped {border: 1px dashed gray;margin: 0 0.4em 0.5em 0.4em;box-sizing: border-box;padding-bottom: 0.4em;background-color: white;}#sk-container-id-9 div.sk-label label {font-family: monospace;font-weight: bold;display: inline-block;line-height: 1.2em;}#sk-container-id-9 div.sk-label-container {text-align: center;}#sk-container-id-9 div.sk-container {/* jupyter's `normalize.less` sets `[hidden] { display: none; }` but bootstrap.min.css set `[hidden] { display: none !important; }` so we also need the `!important` here to be able to override the default hidden behavior on the sphinx rendered scikit-learn.org. See: https://github.com/scikit-learn/scikit-learn/issues/21755 */display: inline-block !important;position: relative;}#sk-container-id-9 div.sk-text-repr-fallback {display: none;}</style><div id=\"sk-container-id-9\" class=\"sk-top-container\"><div class=\"sk-text-repr-fallback\"><pre>SVC(kernel=&#x27;poly&#x27;)</pre><b>In a Jupyter environment, please rerun this cell to show the HTML representation or trust the notebook. <br />On GitHub, the HTML representation is unable to render, please try loading this page with nbviewer.org.</b></div><div class=\"sk-container\" hidden><div class=\"sk-item\"><div class=\"sk-estimator sk-toggleable\"><input class=\"sk-toggleable__control sk-hidden--visually\" id=\"sk-estimator-id-9\" type=\"checkbox\" checked><label for=\"sk-estimator-id-9\" class=\"sk-toggleable__label sk-toggleable__label-arrow\">SVC</label><div class=\"sk-toggleable__content\"><pre>SVC(kernel=&#x27;poly&#x27;)</pre></div></div></div></div></div>"
      ],
      "text/plain": [
       "SVC(kernel='poly')"
      ]
     },
     "execution_count": 201,
     "metadata": {},
     "output_type": "execute_result"
    }
   ],
   "source": [
    "# Training the svm classifier\n",
    "\n",
    "classifier.fit(x_train, y_train)"
   ]
  },
  {
   "cell_type": "markdown",
   "id": "f4f68620",
   "metadata": {},
   "source": [
    "### Evaluating the model"
   ]
  },
  {
   "cell_type": "markdown",
   "id": "e6e21d82",
   "metadata": {},
   "source": [
    "#### Accuracy Score of the model\n",
    "\n"
   ]
  },
  {
   "cell_type": "code",
   "execution_count": 202,
   "id": "5dd24967",
   "metadata": {},
   "outputs": [],
   "source": [
    "# acccuracy score on the training data\n",
    "\n",
    "# predict label for all the x_train dataset, means predicting y values of x_train\n",
    "x_train_prediction = classifier.predict(x_train)\n",
    "\n",
    "# Training data accuracy ?, checking if the predicted answer relates to the y_train dataset\n",
    "training_data_accuracy = accuracy_score(x_train_prediction, y_train)"
   ]
  },
  {
   "cell_type": "code",
   "execution_count": 203,
   "id": "86f8ffb0",
   "metadata": {},
   "outputs": [
    {
     "name": "stdout",
     "output_type": "stream",
     "text": [
      "0.7692307692307693\n"
     ]
    }
   ],
   "source": [
    "# if accuracy is above 75 means it is good, we can boost it by another factors\n",
    "print(training_data_accuracy)"
   ]
  },
  {
   "cell_type": "code",
   "execution_count": 204,
   "id": "58a68a6f",
   "metadata": {},
   "outputs": [],
   "source": [
    "x_test_prediction = classifier.predict(x_test)\n",
    "test_data_accuracy = accuracy_score(x_test_prediction, y_test)"
   ]
  },
  {
   "cell_type": "code",
   "execution_count": 205,
   "id": "26240edb",
   "metadata": {},
   "outputs": [
    {
     "name": "stdout",
     "output_type": "stream",
     "text": [
      "0.7458333333333333\n"
     ]
    }
   ],
   "source": [
    "print(test_data_accuracy)"
   ]
  },
  {
   "cell_type": "code",
   "execution_count": 206,
   "id": "0e36ba80",
   "metadata": {},
   "outputs": [],
   "source": [
    "# model not overtrained, overfitting, means it is not much roughly worked on trained data, so it will work good on test data\n",
    "# if there's a lot of score difference between test_data_accuracy and train_data_accuracy then it means overfitting"
   ]
  },
  {
   "cell_type": "markdown",
   "id": "751acf34",
   "metadata": {},
   "source": [
    "### Making a predictive system"
   ]
  },
  {
   "cell_type": "code",
   "execution_count": 207,
   "id": "ebe768e7",
   "metadata": {},
   "outputs": [
    {
     "name": "stdout",
     "output_type": "stream",
     "text": [
      "[0]\n",
      "The person is not diabetic\n"
     ]
    },
    {
     "name": "stderr",
     "output_type": "stream",
     "text": [
      "c:\\Users\\rushi\\AppData\\Local\\Programs\\Python\\Python311\\Lib\\site-packages\\sklearn\\base.py:464: UserWarning: X does not have valid feature names, but SVC was fitted with feature names\n",
      "  warnings.warn(\n"
     ]
    }
   ],
   "source": [
    "# taking the array\n",
    "# reshaping the array, because model is trained on (768,8) inputs, we are only giving one instance and not 768 inputs\n",
    "# if we did not reshape it will expect 768 values\n",
    "# also we need to standardised the data we have given because the ml is trained on standardised_data\n",
    "\n",
    "input_data = (1,103,30,38,83,43.3,0.183,33)\n",
    "arrayed_data = np.asarray(input_data)\n",
    "\n",
    "reshaped_data = arrayed_data.reshape(1,-1)\n",
    "\n",
    "#standardisation\n",
    "# std_dat = scaler.transform(reshaped_data)\n",
    "# print(std_dat)\n",
    "\n",
    "#predicting the y value\n",
    "prediction = classifier.predict(reshaped_data)\n",
    "print(prediction)\n",
    "\n",
    "if prediction[0] == 0:\n",
    "    print('The person is not diabetic')\n",
    "else:\n",
    "    print('The person is diabetc')"
   ]
  },
  {
   "cell_type": "code",
   "execution_count": null,
   "id": "1c207e18",
   "metadata": {},
   "outputs": [],
   "source": []
  },
  {
   "cell_type": "markdown",
   "id": "cd39173f",
   "metadata": {},
   "source": [
    "## Saving the trained model"
   ]
  },
  {
   "cell_type": "code",
   "execution_count": 208,
   "id": "241281be",
   "metadata": {},
   "outputs": [],
   "source": [
    "import pickle"
   ]
  },
  {
   "cell_type": "code",
   "execution_count": 209,
   "id": "fbd86245",
   "metadata": {},
   "outputs": [],
   "source": [
    "filename = 'trained_model.sav'\n",
    "\n",
    "# saving the trained model in the file (in binary) using dump which is used to save \n",
    "pickle.dump(classifier, open(filename, 'wb'))"
   ]
  },
  {
   "cell_type": "code",
   "execution_count": 210,
   "id": "5aee8705",
   "metadata": {},
   "outputs": [],
   "source": [
    "# laoding the save model using pickle.load\n",
    "\n",
    "load_model = pickle.load(open('trained_model.sav','rb'))"
   ]
  },
  {
   "cell_type": "code",
   "execution_count": null,
   "id": "25cdd53f",
   "metadata": {},
   "outputs": [],
   "source": []
  }
 ],
 "metadata": {
  "kernelspec": {
   "display_name": "Python 3",
   "language": "python",
   "name": "python3"
  },
  "language_info": {
   "codemirror_mode": {
    "name": "ipython",
    "version": 3
   },
   "file_extension": ".py",
   "mimetype": "text/x-python",
   "name": "python",
   "nbconvert_exporter": "python",
   "pygments_lexer": "ipython3",
   "version": "3.11.2"
  },
  "vscode": {
   "interpreter": {
    "hash": "ef500ad13a14f1b7e52b748faf3bff2d9fba8909152565c5ad7e6630fb9c364e"
   }
  }
 },
 "nbformat": 4,
 "nbformat_minor": 5
}
